{
 "cells": [
  {
   "cell_type": "markdown",
   "metadata": {
    "deletable": true,
    "editable": true
   },
   "source": [
    "# Mean, Median, Mode, and introducing NumPy"
   ]
  },
  {
   "cell_type": "markdown",
   "metadata": {
    "deletable": true,
    "editable": true
   },
   "source": [
    "## Mean vs. Median"
   ]
  },
  {
   "cell_type": "markdown",
   "metadata": {
    "deletable": true,
    "editable": true
   },
   "source": [
    "Let's create some fake income data, centered around 27,000 with a normal distribution and standard deviation of 15,000, with 10,000 data points. (We'll discuss those terms more later, if you're not familiar with them.)\n",
    "\n",
    "Then, compute the mean (average) - it should be close to 27,000:"
   ]
  },
  {
   "cell_type": "code",
   "execution_count": 21,
   "metadata": {
    "collapsed": false,
    "deletable": true,
    "editable": true
   },
   "outputs": [
    {
     "data": {
      "text/plain": [
       "26991.481871557557"
      ]
     },
     "execution_count": 21,
     "metadata": {},
     "output_type": "execute_result"
    }
   ],
   "source": [
    "import numpy as np\n",
    "\n",
    "incomes = np.random.normal(27000, 15000, 10000)\n",
    "np.mean(incomes)\n"
   ]
  },
  {
   "cell_type": "markdown",
   "metadata": {
    "deletable": true,
    "editable": true
   },
   "source": [
    "We can segment the income data into 50 buckets, and plot it as a histogram:"
   ]
  },
  {
   "cell_type": "code",
   "execution_count": 15,
   "metadata": {
    "collapsed": false,
    "deletable": true,
    "editable": true
   },
   "outputs": [
    {
     "data": {
      "image/png": "[encoded data removed]",
      "text/plain": [
       "<matplotlib.figure.Figure at 0x1c970af4470>"
      ]
     },
     "metadata": {},
     "output_type": "display_data"
    }
   ],
   "source": [
    "%matplotlib inline\n",
    "import matplotlib.pyplot as plt\n",
    "plt.hist(incomes, 50)\n",
    "plt.show()"
   ]
  },
  {
   "cell_type": "markdown",
   "metadata": {
    "deletable": true,
    "editable": true
   },
   "source": [
    "Now compute the median - since we have a nice, even distribution it too should be close to 27,000:"
   ]
  },
  {
   "cell_type": "code",
   "execution_count": 16,
   "metadata": {
    "collapsed": false,
    "deletable": true,
    "editable": true
   },
   "outputs": [
    {
     "data": {
      "text/plain": [
       "27071.555822786286"
      ]
     },
     "execution_count": 16,
     "metadata": {},
     "output_type": "execute_result"
    }
   ],
   "source": [
    "np.median(incomes)"
   ]
  },
  {
   "cell_type": "markdown",
   "metadata": {
    "deletable": true,
    "editable": true
   },
   "source": [
    "Now we'll add Donald Trump into the mix. Darn income inequality!"
   ]
  },
  {
   "cell_type": "code",
   "execution_count": 23,
   "metadata": {
    "collapsed": false,
    "deletable": true,
    "editable": true
   },
   "outputs": [],
   "source": [
    "incomes = np.append(incomes, [1000000000])"
   ]
  },
  {
   "cell_type": "markdown",
   "metadata": {
    "deletable": true,
    "editable": true
   },
   "source": [
    "The median won't change much, but the mean does:"
   ]
  },
  {
   "cell_type": "code",
   "execution_count": 25,
   "metadata": {
    "collapsed": false,
    "deletable": true,
    "editable": true
   },
   "outputs": [
    {
     "data": {
      "text/plain": [
       "26804.515857487015"
      ]
     },
     "execution_count": 25,
     "metadata": {},
     "output_type": "execute_result"
    }
   ],
   "source": [
    "np.median(incomes)"
   ]
  },
  {
   "cell_type": "code",
   "execution_count": 24,
   "metadata": {
    "collapsed": false,
    "deletable": true,
    "editable": true
   },
   "outputs": [
    {
     "data": {
      "text/plain": [
       "126978.78399315826"
      ]
     },
     "execution_count": 24,
     "metadata": {},
     "output_type": "execute_result"
    }
   ],
   "source": [
    "np.mean(incomes)"
   ]
  },
  {
   "cell_type": "markdown",
   "metadata": {
    "deletable": true,
    "editable": true
   },
   "source": [
    "## Mode"
   ]
  },
  {
   "cell_type": "markdown",
   "metadata": {
    "deletable": true,
    "editable": true
   },
   "source": [
    "Next, let's generate some fake age data for 500 people:"
   ]
  },
  {
   "cell_type": "code",
   "execution_count": 28,
   "metadata": {
    "collapsed": false,
    "deletable": true,
    "editable": true
   },
   "outputs": [
    {
     "data": {
      "text/plain": [
       "array([74, 63, 69, 73, 62, 63, 31, 40, 38, 50, 50, 23, 36, 84, 85, 81, 66,\n",
       "       67, 28, 18, 42, 35, 89, 84, 89, 28, 24, 79, 26, 60, 21, 86, 29, 64,\n",
       "       20, 79, 54, 78, 45, 57, 64, 39, 59, 44, 73, 77, 39, 58, 39, 44, 87,\n",
       "       82, 54, 88, 38, 84, 49, 50, 55, 31, 49, 37, 73, 71, 50, 39, 19, 73,\n",
       "       63, 80, 48, 47, 48, 40, 82, 77, 19, 34, 28, 37, 51, 26, 35, 88, 76,\n",
       "       18, 31, 30, 76, 32, 74, 24, 20, 67, 32, 44, 28, 54, 89, 62, 64, 49,\n",
       "       41, 18, 84, 79, 62, 78, 55, 74, 33, 81, 34, 51, 79, 49, 37, 45, 85,\n",
       "       53, 35, 37, 27, 59, 27, 37, 79, 31, 24, 60, 48, 30, 75, 69, 34, 30,\n",
       "       82, 67, 45, 23, 25, 78, 34, 44, 52, 28, 44, 85, 27, 86, 86, 25, 84,\n",
       "       19, 47, 33, 26, 21, 28, 58, 18, 35, 46, 85, 73, 26, 50, 55, 65, 86,\n",
       "       28, 74, 79, 64, 49, 27, 20, 87, 57, 26, 61, 21, 25, 81, 40, 86, 57,\n",
       "       22, 53, 38, 33, 26, 79, 18, 82, 74, 65, 25, 79, 84, 43, 33, 87, 78,\n",
       "       28, 58, 28, 64, 84, 35, 88, 76, 39, 81, 47, 84, 71, 21, 74, 35, 49,\n",
       "       61, 52, 50, 20, 82, 72, 48, 79, 26, 77, 56, 69, 65, 40, 66, 35, 75,\n",
       "       50, 21, 23, 50, 30, 56, 74, 54, 65, 20, 25, 25, 73, 37, 77, 29, 45,\n",
       "       39, 87, 21, 74, 51, 41, 72, 27, 69, 50, 34, 68, 34, 66, 48, 55, 18,\n",
       "       57, 61, 88, 23, 82, 47, 24, 21, 22, 29, 67, 19, 69, 49, 50, 75, 82,\n",
       "       61, 72, 64, 27, 72, 51, 41, 46, 43, 84, 27, 74, 63, 39, 37, 38, 54,\n",
       "       86, 66, 62, 72, 65, 56, 72, 44, 62, 27, 22, 56, 77, 43, 81, 73, 49,\n",
       "       79, 48, 35, 26, 77, 32, 40, 28, 23, 88, 60, 39, 26, 53, 51, 47, 37,\n",
       "       74, 81, 57, 72, 52, 69, 24, 77, 72, 47, 21, 85, 47, 26, 79, 66, 50,\n",
       "       39, 41, 21, 67, 47, 35, 46, 21, 77, 61, 67, 32, 44, 69, 70, 88, 26,\n",
       "       21, 44, 19, 51, 29, 88, 48, 31, 76, 64, 66, 25, 84, 48, 19, 68, 68,\n",
       "       30, 44, 72, 89, 67, 53, 85, 29, 78, 81, 80, 68, 20, 55, 60, 38, 40,\n",
       "       38, 89, 30, 81, 64, 73, 19, 72, 69, 88, 62, 26, 82, 85, 33, 68, 18,\n",
       "       46, 69, 85, 77, 76, 83, 35, 50, 82, 60, 68, 30, 42, 53, 35, 76, 70,\n",
       "       75, 65, 44, 21, 55, 88, 80, 23, 29, 88, 26, 65, 76, 69, 22, 58, 34,\n",
       "       33, 35, 77, 31, 67, 30, 78, 73, 29, 30, 36, 64, 39, 60, 63, 44, 19,\n",
       "       66, 74, 20, 39, 66, 37, 32, 34, 39, 45, 69, 58, 34, 36, 57, 24, 35,\n",
       "       55, 32, 54, 72, 78, 78, 43])"
      ]
     },
     "execution_count": 28,
     "metadata": {},
     "output_type": "execute_result"
    }
   ],
   "source": [
    "ages = np.random.randint(18, high=90, size=500)\n",
    "ages"
   ]
  },
  {
   "cell_type": "code",
   "execution_count": 29,
   "metadata": {
    "collapsed": false,
    "deletable": true,
    "editable": true
   },
   "outputs": [
    {
     "data": {
      "text/plain": [
       "ModeResult(mode=array([26]), count=array([13]))"
      ]
     },
     "execution_count": 29,
     "metadata": {},
     "output_type": "execute_result"
    }
   ],
   "source": [
    "from scipy import stats\n",
    "stats.mode(ages)"
   ]
  },
  {
   "cell_type": "code",
   "execution_count": null,
   "metadata": {
    "collapsed": false,
    "deletable": true,
    "editable": true
   },
   "outputs": [],
   "source": []
  }
 ],
 "metadata": {
  "kernelspec": {
   "display_name": "Python 3",
   "language": "python",
   "name": "python3"
  },
  "language_info": {
   "codemirror_mode": {
    "name": "ipython",
    "version": 3
   },
   "file_extension": ".py",
   "mimetype": "text/x-python",
   "name": "python",
   "nbconvert_exporter": "python",
   "pygments_lexer": "ipython3",
   "version": "3.5.2"
  }
 },
 "nbformat": 4,
 "nbformat_minor": 0
}
